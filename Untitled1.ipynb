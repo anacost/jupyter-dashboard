{
 "cells": [
  {
   "cell_type": "code",
   "execution_count": 5,
   "metadata": {
    "extensions": {
     "jupyter_dashboards": {
      "version": 1,
      "views": {
       "grid_default": {
        "col": 0,
        "height": 12,
        "hidden": true,
        "row": 2,
        "width": 6
       },
       "report_default": {}
      }
     }
    }
   },
   "outputs": [
    {
     "data": {
      "text/html": [
       "<iframe width=\"560\" height=\"315\" src=\"https://www.finse.uio.no/news/webcam/finsebilder/2018-01-26_12-00.jpg\"></iframe>"
      ],
      "text/plain": [
       "<IPython.core.display.HTML object>"
      ]
     },
     "execution_count": 5,
     "metadata": {},
     "output_type": "execute_result"
    }
   ],
   "source": [
    "from IPython.display import HTML\n",
    "\n",
    "HTML('<iframe width=\"560\" height=\"315\" src=\"https://www.finse.uio.no/news/webcam/finsebilder/2018-01-26_12-00.jpg\"></iframe>')"
   ]
  },
  {
   "cell_type": "code",
   "execution_count": 4,
   "metadata": {
    "extensions": {
     "jupyter_dashboards": {
      "version": 1,
      "views": {
       "grid_default": {
        "col": 6,
        "height": 12,
        "hidden": true,
        "row": 15,
        "width": 6
       },
       "report_default": {}
      }
     }
    }
   },
   "outputs": [
    {
     "data": {
      "text/html": [
       "<iframe width=\"560\" height=\"315\" src=\"https://www.bt.no/tv/embed/?id=100521\" allowfullscreen=\"true\"></iframe>"
      ],
      "text/plain": [
       "<IPython.core.display.HTML object>"
      ]
     },
     "execution_count": 4,
     "metadata": {},
     "output_type": "execute_result"
    }
   ],
   "source": [
    "from IPython.display import HTML\n",
    "\n",
    "HTML('<iframe width=\"560\" height=\"315\" src=\"https://www.bt.no/tv/embed/?id=100521\" allowfullscreen=\"true\"></iframe>')"
   ]
  },
  {
   "cell_type": "code",
   "execution_count": 6,
   "metadata": {
    "extensions": {
     "jupyter_dashboards": {
      "version": 1,
      "views": {
       "grid_default": {
        "hidden": true
       },
       "report_default": {}
      }
     }
    }
   },
   "outputs": [],
   "source": [
    "import ipywidgets as widgets"
   ]
  },
  {
   "cell_type": "code",
   "execution_count": 7,
   "metadata": {
    "extensions": {
     "jupyter_dashboards": {
      "version": 1,
      "views": {
       "grid_default": {
        "col": 0,
        "height": 4,
        "hidden": true,
        "row": 14,
        "width": 4
       },
       "report_default": {}
      }
     }
    }
   },
   "outputs": [
    {
     "data": {
      "application/vnd.jupyter.widget-view+json": {
       "model_id": "ba00e2afabf64c398f48baa80410761e",
       "version_major": 2,
       "version_minor": 0
      },
      "text/html": [
       "<p>Failed to display Jupyter Widget of type <code>Select</code>.</p>\n",
       "<p>\n",
       "  If you're reading this message in the Jupyter Notebook or JupyterLab Notebook, it may mean\n",
       "  that the widgets JavaScript is still loading. If this message persists, it\n",
       "  likely means that the widgets JavaScript library is either not installed or\n",
       "  not enabled. See the <a href=\"https://ipywidgets.readthedocs.io/en/stable/user_install.html\">Jupyter\n",
       "  Widgets Documentation</a> for setup instructions.\n",
       "</p>\n",
       "<p>\n",
       "  If you're reading this message in another frontend (for example, a static\n",
       "  rendering on GitHub or <a href=\"https://nbviewer.jupyter.org/\">NBViewer</a>),\n",
       "  it may mean that your frontend doesn't currently support widgets.\n",
       "</p>\n"
      ],
      "text/plain": [
       "Select(description='webcam:', index=1, options=('Finse Railway Station', 'Finse Research Centre'), rows=2, value='Finse Research Centre')"
      ]
     },
     "metadata": {},
     "output_type": "display_data"
    }
   ],
   "source": [
    "select=widgets.Select( \n",
    "    options=['Finse Railway Station', 'Finse Research Centre'],\n",
    "    value='Finse Research Centre',\n",
    "    rows=2,\n",
    "    description='webcam:',\n",
    "    disabled=False)\n",
    "display(select)"
   ]
  },
  {
   "cell_type": "code",
   "execution_count": 8,
   "metadata": {
    "extensions": {
     "jupyter_dashboards": {
      "version": 1,
      "views": {
       "grid_default": {
        "col": 4,
        "height": 4,
        "hidden": true,
        "row": 15,
        "width": 4
       },
       "report_default": {}
      }
     }
    }
   },
   "outputs": [
    {
     "data": {
      "application/vnd.jupyter.widget-view+json": {
       "model_id": "c1e64e112f5a4a0f982fe96e372b4bd4",
       "version_major": 2,
       "version_minor": 0
      },
      "text/html": [
       "<p>Failed to display Jupyter Widget of type <code>RadioButtons</code>.</p>\n",
       "<p>\n",
       "  If you're reading this message in the Jupyter Notebook or JupyterLab Notebook, it may mean\n",
       "  that the widgets JavaScript is still loading. If this message persists, it\n",
       "  likely means that the widgets JavaScript library is either not installed or\n",
       "  not enabled. See the <a href=\"https://ipywidgets.readthedocs.io/en/stable/user_install.html\">Jupyter\n",
       "  Widgets Documentation</a> for setup instructions.\n",
       "</p>\n",
       "<p>\n",
       "  If you're reading this message in another frontend (for example, a static\n",
       "  rendering on GitHub or <a href=\"https://nbviewer.jupyter.org/\">NBViewer</a>),\n",
       "  it may mean that your frontend doesn't currently support widgets.\n",
       "</p>\n"
      ],
      "text/plain": [
       "RadioButtons(description='Webcam:', index=1, options=('Finse Railway Station', 'Finse Research Centre'), value='Finse Research Centre')"
      ]
     },
     "metadata": {},
     "output_type": "display_data"
    }
   ],
   "source": [
    "radio=widgets.RadioButtons(\n",
    "    options=['Finse Railway Station', 'Finse Research Centre'],\n",
    "    value= 'Finse Research Centre',\n",
    "    description= 'Webcam:',\n",
    "    disabled=False\n",
    "    )\n",
    "display(radio)"
   ]
  },
  {
   "cell_type": "code",
   "execution_count": 9,
   "metadata": {
    "extensions": {
     "jupyter_dashboards": {
      "version": 1,
      "views": {
       "grid_default": {
        "col": 8,
        "height": 5,
        "hidden": true,
        "row": 15,
        "width": 4
       },
       "report_default": {}
      }
     }
    }
   },
   "outputs": [
    {
     "data": {
      "application/vnd.jupyter.widget-view+json": {
       "model_id": "3079f8a0a0c64d9aa6e20e9a4caef2aa",
       "version_major": 2,
       "version_minor": 0
      },
      "text/html": [
       "<p>Failed to display Jupyter Widget of type <code>Select</code>.</p>\n",
       "<p>\n",
       "  If you're reading this message in the Jupyter Notebook or JupyterLab Notebook, it may mean\n",
       "  that the widgets JavaScript is still loading. If this message persists, it\n",
       "  likely means that the widgets JavaScript library is either not installed or\n",
       "  not enabled. See the <a href=\"https://ipywidgets.readthedocs.io/en/stable/user_install.html\">Jupyter\n",
       "  Widgets Documentation</a> for setup instructions.\n",
       "</p>\n",
       "<p>\n",
       "  If you're reading this message in another frontend (for example, a static\n",
       "  rendering on GitHub or <a href=\"https://nbviewer.jupyter.org/\">NBViewer</a>),\n",
       "  it may mean that your frontend doesn't currently support widgets.\n",
       "</p>\n"
      ],
      "text/plain": [
       "Select(description='webcam:', index=1, options=('Finse Railway Station', 'Finse Research Centre'), rows=2, value='Finse Research Centre')"
      ]
     },
     "metadata": {},
     "output_type": "display_data"
    },
    {
     "data": {
      "application/vnd.jupyter.widget-view+json": {
       "model_id": "5ff4d8846b774127a5f5a6a24758bff5",
       "version_major": 2,
       "version_minor": 0
      },
      "text/html": [
       "<p>Failed to display Jupyter Widget of type <code>RadioButtons</code>.</p>\n",
       "<p>\n",
       "  If you're reading this message in the Jupyter Notebook or JupyterLab Notebook, it may mean\n",
       "  that the widgets JavaScript is still loading. If this message persists, it\n",
       "  likely means that the widgets JavaScript library is either not installed or\n",
       "  not enabled. See the <a href=\"https://ipywidgets.readthedocs.io/en/stable/user_install.html\">Jupyter\n",
       "  Widgets Documentation</a> for setup instructions.\n",
       "</p>\n",
       "<p>\n",
       "  If you're reading this message in another frontend (for example, a static\n",
       "  rendering on GitHub or <a href=\"https://nbviewer.jupyter.org/\">NBViewer</a>),\n",
       "  it may mean that your frontend doesn't currently support widgets.\n",
       "</p>\n"
      ],
      "text/plain": [
       "RadioButtons(description='Webcam:', index=1, options=('Finse Railway Station', 'Finse Research Centre'), value='Finse Research Centre')"
      ]
     },
     "metadata": {},
     "output_type": "display_data"
    }
   ],
   "source": [
    "select=widgets.Select( \n",
    "    options=['Finse Railway Station', 'Finse Research Centre'],\n",
    "    value='Finse Research Centre',\n",
    "    rows=2,\n",
    "    description='webcam:',\n",
    "    disabled=False)\n",
    "radio=widgets.RadioButtons(\n",
    "    options=['Finse Railway Station', 'Finse Research Centre'],\n",
    "    value= 'Finse Research Centre',\n",
    "    description= 'Webcam:',\n",
    "    disabled=False\n",
    "    )\n",
    "display(select, radio)"
   ]
  },
  {
   "cell_type": "code",
   "execution_count": 10,
   "metadata": {
    "extensions": {
     "jupyter_dashboards": {
      "version": 1,
      "views": {
       "grid_default": {
        "col": 0,
        "height": 5,
        "hidden": true,
        "row": 14,
        "width": 4
       },
       "report_default": {}
      }
     }
    }
   },
   "outputs": [
    {
     "data": {
      "application/vnd.jupyter.widget-view+json": {
       "model_id": "3079f8a0a0c64d9aa6e20e9a4caef2aa",
       "version_major": 2,
       "version_minor": 0
      },
      "text/html": [
       "<p>Failed to display Jupyter Widget of type <code>Select</code>.</p>\n",
       "<p>\n",
       "  If you're reading this message in the Jupyter Notebook or JupyterLab Notebook, it may mean\n",
       "  that the widgets JavaScript is still loading. If this message persists, it\n",
       "  likely means that the widgets JavaScript library is either not installed or\n",
       "  not enabled. See the <a href=\"https://ipywidgets.readthedocs.io/en/stable/user_install.html\">Jupyter\n",
       "  Widgets Documentation</a> for setup instructions.\n",
       "</p>\n",
       "<p>\n",
       "  If you're reading this message in another frontend (for example, a static\n",
       "  rendering on GitHub or <a href=\"https://nbviewer.jupyter.org/\">NBViewer</a>),\n",
       "  it may mean that your frontend doesn't currently support widgets.\n",
       "</p>\n"
      ],
      "text/plain": [
       "Select(description='webcam:', index=1, options=('Finse Railway Station', 'Finse Research Centre'), rows=2, value='Finse Research Centre')"
      ]
     },
     "metadata": {},
     "output_type": "display_data"
    },
    {
     "data": {
      "application/vnd.jupyter.widget-view+json": {
       "model_id": "5ff4d8846b774127a5f5a6a24758bff5",
       "version_major": 2,
       "version_minor": 0
      },
      "text/html": [
       "<p>Failed to display Jupyter Widget of type <code>RadioButtons</code>.</p>\n",
       "<p>\n",
       "  If you're reading this message in the Jupyter Notebook or JupyterLab Notebook, it may mean\n",
       "  that the widgets JavaScript is still loading. If this message persists, it\n",
       "  likely means that the widgets JavaScript library is either not installed or\n",
       "  not enabled. See the <a href=\"https://ipywidgets.readthedocs.io/en/stable/user_install.html\">Jupyter\n",
       "  Widgets Documentation</a> for setup instructions.\n",
       "</p>\n",
       "<p>\n",
       "  If you're reading this message in another frontend (for example, a static\n",
       "  rendering on GitHub or <a href=\"https://nbviewer.jupyter.org/\">NBViewer</a>),\n",
       "  it may mean that your frontend doesn't currently support widgets.\n",
       "</p>\n"
      ],
      "text/plain": [
       "RadioButtons(description='Webcam:', index=1, options=('Finse Railway Station', 'Finse Research Centre'), value='Finse Research Centre')"
      ]
     },
     "metadata": {},
     "output_type": "display_data"
    }
   ],
   "source": [
    "display(select, radio)"
   ]
  },
  {
   "cell_type": "code",
   "execution_count": 11,
   "metadata": {
    "extensions": {
     "jupyter_dashboards": {
      "version": 1,
      "views": {
       "grid_default": {
        "col": 4,
        "height": 12,
        "hidden": true,
        "row": 15,
        "width": 6
       },
       "report_default": {}
      }
     }
    }
   },
   "outputs": [
    {
     "data": {
      "application/vnd.jupyter.widget-view+json": {
       "model_id": "7bfb1fa6486c4bafa395a5be2fa4d4fe",
       "version_major": 2,
       "version_minor": 0
      },
      "text/html": [
       "<p>Failed to display Jupyter Widget of type <code>HTML</code>.</p>\n",
       "<p>\n",
       "  If you're reading this message in the Jupyter Notebook or JupyterLab Notebook, it may mean\n",
       "  that the widgets JavaScript is still loading. If this message persists, it\n",
       "  likely means that the widgets JavaScript library is either not installed or\n",
       "  not enabled. See the <a href=\"https://ipywidgets.readthedocs.io/en/stable/user_install.html\">Jupyter\n",
       "  Widgets Documentation</a> for setup instructions.\n",
       "</p>\n",
       "<p>\n",
       "  If you're reading this message in another frontend (for example, a static\n",
       "  rendering on GitHub or <a href=\"https://nbviewer.jupyter.org/\">NBViewer</a>),\n",
       "  it may mean that your frontend doesn't currently support widgets.\n",
       "</p>\n"
      ],
      "text/plain": [
       "HTML(value='<iframe width=\"560\" height=\"315\" src=\"https://www.finse.uio.no/news/webcam/finsebilder/2018-01-26_12-00.jpg\"></iframe>', description='Finse Research Centre', style=DescriptionStyle(description_width='initial'))"
      ]
     },
     "metadata": {},
     "output_type": "display_data"
    }
   ],
   "source": [
    "webcam= widgets.HTML(\n",
    "        value= '<iframe width=\"560\" height=\"315\" src=\"https://www.finse.uio.no/news/webcam/finsebilder/2018-01-26_12-00.jpg\"></iframe>',\n",
    "        description= 'Finse Research Centre', style= {'description_width': 'initial'}\n",
    ")\n",
    "display(webcam)"
   ]
  },
  {
   "cell_type": "code",
   "execution_count": 12,
   "metadata": {
    "extensions": {
     "jupyter_dashboards": {
      "version": 1,
      "views": {
       "grid_default": {
        "col": 6,
        "height": 15,
        "hidden": false,
        "row": 0,
        "width": 6
       },
       "report_default": {}
      }
     }
    }
   },
   "outputs": [
    {
     "data": {
      "application/vnd.jupyter.widget-view+json": {
       "model_id": "9b61ea02e82e405d99deaa16a9bf6799",
       "version_major": 2,
       "version_minor": 0
      },
      "text/html": [
       "<p>Failed to display Jupyter Widget of type <code>HTML</code>.</p>\n",
       "<p>\n",
       "  If you're reading this message in the Jupyter Notebook or JupyterLab Notebook, it may mean\n",
       "  that the widgets JavaScript is still loading. If this message persists, it\n",
       "  likely means that the widgets JavaScript library is either not installed or\n",
       "  not enabled. See the <a href=\"https://ipywidgets.readthedocs.io/en/stable/user_install.html\">Jupyter\n",
       "  Widgets Documentation</a> for setup instructions.\n",
       "</p>\n",
       "<p>\n",
       "  If you're reading this message in another frontend (for example, a static\n",
       "  rendering on GitHub or <a href=\"https://nbviewer.jupyter.org/\">NBViewer</a>),\n",
       "  it may mean that your frontend doesn't currently support widgets.\n",
       "</p>\n"
      ],
      "text/plain": [
       "HTML(value='<iframe width=\"560\" height=\"315\" src=\"https://www.finse.uio.no/news/webcam/dagens.jpg\"></iframe>', description='Finse Research Centre', style=DescriptionStyle(description_width='initial'))"
      ]
     },
     "metadata": {},
     "output_type": "display_data"
    },
    {
     "data": {
      "application/vnd.jupyter.widget-view+json": {
       "model_id": "c17dbc44b73240539d98632cbc539aae",
       "version_major": 2,
       "version_minor": 0
      },
      "text/html": [
       "<p>Failed to display Jupyter Widget of type <code>RadioButtons</code>.</p>\n",
       "<p>\n",
       "  If you're reading this message in the Jupyter Notebook or JupyterLab Notebook, it may mean\n",
       "  that the widgets JavaScript is still loading. If this message persists, it\n",
       "  likely means that the widgets JavaScript library is either not installed or\n",
       "  not enabled. See the <a href=\"https://ipywidgets.readthedocs.io/en/stable/user_install.html\">Jupyter\n",
       "  Widgets Documentation</a> for setup instructions.\n",
       "</p>\n",
       "<p>\n",
       "  If you're reading this message in another frontend (for example, a static\n",
       "  rendering on GitHub or <a href=\"https://nbviewer.jupyter.org/\">NBViewer</a>),\n",
       "  it may mean that your frontend doesn't currently support widgets.\n",
       "</p>\n"
      ],
      "text/plain": [
       "RadioButtons(description='Webcam:', index=1, options=('Finse Railway Station', 'Finse Research Centre'), value='Finse Research Centre')"
      ]
     },
     "metadata": {},
     "output_type": "display_data"
    }
   ],
   "source": [
    "button=widgets.RadioButtons(\n",
    "    options=['Finse Railway Station', 'Finse Research Centre'],\n",
    "    value= 'Finse Research Centre',\n",
    "    description= 'Webcam:',\n",
    "    disabled=False\n",
    "    )\n",
    "webcam= widgets.HTML(\n",
    "        value= '<iframe width=\"560\" height=\"315\" src=\"https://www.finse.uio.no/news/webcam/dagens.jpg\"></iframe>',\n",
    "        description= 'Finse Research Centre', style= {'description_width': 'initial'}\n",
    ")\n",
    "def handle_button_change(change):\n",
    "    if change['new'] == 'Finse Research Centre':\n",
    "        webcam.value= '<iframe width=\"560\" height=\"315\" src=\"https://www.finse.uio.no/news/webcam/dagens.jpg\"></iframe>'\n",
    "    else:\n",
    "        webcam.value='<iframe width=\"560\" height=\"315\" src=\"https://www.bt.no/tv/embed/?id=100521\" allowfullscreen=\"true\"></iframe>'\n",
    "        \n",
    "button.observe(handle_button_change, names='value')\n",
    "\n",
    "display(webcam, button)"
   ]
  },
  {
   "cell_type": "code",
   "execution_count": 13,
   "metadata": {
    "extensions": {
     "jupyter_dashboards": {
      "version": 1,
      "views": {
       "grid_default": {
        "col": 0,
        "height": 2,
        "hidden": false,
        "row": 0,
        "width": 6
       },
       "report_default": {}
      }
     }
    }
   },
   "outputs": [
    {
     "data": {
      "text/html": [
       "<h1>Finse Data monitoring Dashboard</h1>"
      ],
      "text/plain": [
       "<IPython.core.display.HTML object>"
      ]
     },
     "execution_count": 13,
     "metadata": {},
     "output_type": "execute_result"
    }
   ],
   "source": [
    "from IPython.display import HTML\n",
    "HTML('<h1>Finse Data monitoring Dashboard</h1>')"
   ]
  },
  {
   "cell_type": "code",
   "execution_count": 14,
   "metadata": {
    "extensions": {
     "jupyter_dashboards": {
      "version": 1,
      "views": {
       "grid_default": {
        "hidden": true
       },
       "report_default": {}
      }
     }
    }
   },
   "outputs": [],
   "source": [
    "import folium"
   ]
  },
  {
   "cell_type": "code",
   "execution_count": 15,
   "metadata": {},
   "outputs": [],
   "source": [
    "map=folium.Map(location=[60.6, 7.5], zoom_start=11, tiles='Stamen Terrain')"
   ]
  },
  {
   "cell_type": "code",
   "execution_count": 17,
   "metadata": {},
   "outputs": [
    {
     "data": {
      "text/html": [
       "<div style=\"width:100%;\"><div style=\"position:relative;width:100%;height:0;padding-bottom:60%;\"><iframe src=\"data:text/html;charset=utf-8;base64,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\" style=\"position:absolute;width:100%;height:100%;left:0;top:0;border:none !important;\" allowfullscreen webkitallowfullscreen mozallowfullscreen></iframe></div></div>"
      ],
      "text/plain": [
       "<folium.folium.Map at 0x7fd9cb3d9b70>"
      ]
     },
     "execution_count": 17,
     "metadata": {},
     "output_type": "execute_result"
    }
   ],
   "source": [
    "map"
   ]
  },
  {
   "cell_type": "code",
   "execution_count": 18,
   "metadata": {},
   "outputs": [
    {
     "name": "stdout",
     "output_type": "stream",
     "text": [
      "/tmp/tmp8e908ka0\n"
     ]
    }
   ],
   "source": [
    "import urllib.request\n",
    "url='https://raw.githubusercontent.com/annefou/jupyter_dashboards/gh-pages/data/Hardangervidda.geojson'\n",
    "geojson_filename, headers = urllib.request.urlretrieve(url)\n",
    "print(geojson_filename)"
   ]
  },
  {
   "cell_type": "code",
   "execution_count": 19,
   "metadata": {},
   "outputs": [
    {
     "data": {
      "text/html": [
       "<div style=\"width:100%;\"><div style=\"position:relative;width:100%;height:0;padding-bottom:60%;\"><iframe src=\"data:text/html;charset=utf-8;base64,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\" style=\"position:absolute;width:100%;height:100%;left:0;top:0;border:none !important;\" allowfullscreen webkitallowfullscreen mozallowfullscreen></iframe></div></div>"
      ],
      "text/plain": [
       "<folium.folium.Map at 0x7fd9cb3d9b70>"
      ]
     },
     "execution_count": 19,
     "metadata": {},
     "output_type": "execute_result"
    }
   ],
   "source": [
    "geojson = folium.GeoJson(\n",
    "            geojson_filename, name='geojson').add_to(map)\n",
    "map"
   ]
  },
  {
   "cell_type": "code",
   "execution_count": 20,
   "metadata": {
    "scrolled": true
   },
   "outputs": [
    {
     "data": {
      "application/vnd.jupyter.widget-view+json": {
       "model_id": "665ef08e18074f8bbcc5a00ade5dfa03",
       "version_major": 2,
       "version_minor": 0
      }
     },
     "metadata": {},
     "output_type": "display_data"
    }
   ],
   "source": [
    "from pandas.io.json import json_normalize\n",
    "from beakerx import *\n",
    "\n",
    "features = geojson.data['features']\n",
    "json_normalize(features)"
   ]
  },
  {
   "cell_type": "code",
   "execution_count": 24,
   "metadata": {},
   "outputs": [
    {
     "data": {
      "text/html": [
       "<div style=\"width:100%;\"><div style=\"position:relative;width:100%;height:0;padding-bottom:60%;\"><iframe src=\"data:text/html;charset=utf-8;base64,PCFET0NUWVBFIGh0bWw+CjxoZWFkPiAgICAKICAgIDxtZXRhIGh0dHAtZXF1aXY9ImNvbnRlbnQtdHlwZSIgY29udGVudD0idGV4dC9odG1sOyBjaGFyc2V0PVVURi04IiAvPgogICAgPHNjcmlwdD5MX1BSRUZFUl9DQU5WQVMgPSBmYWxzZTsgTF9OT19UT1VDSCA9IGZhbHNlOyBMX0RJU0FCTEVfM0QgPSBmYWxzZTs8L3NjcmlwdD4KICAgIDxzY3JpcHQgc3JjPSJodHRwczovL2Nkbi5qc2RlbGl2ci5uZXQvbnBtL2xlYWZsZXRAMS4yLjAvZGlzdC9sZWFmbGV0LmpzIj48L3NjcmlwdD4KICAgIDxzY3JpcHQgc3JjPSJodHRwczovL2FqYXguZ29vZ2xlYXBpcy5jb20vYWpheC9saWJzL2pxdWVyeS8xLjExLjEvanF1ZXJ5Lm1pbi5qcyI+PC9zY3JpcHQ+CiAgICA8c2NyaXB0IHNyYz0iaHR0cHM6Ly9tYXhjZG4uYm9vdHN0cmFwY2RuLmNvbS9ib290c3RyYXAvMy4yLjAvanMvYm9vdHN0cmFwLm1pbi5qcyI+PC9zY3JpcHQ+CiAgICA8c2NyaXB0IHNyYz0iaHR0cHM6Ly9jZG5qcy5jbG91ZGZsYXJlLmNvbS9hamF4L2xpYnMvTGVhZmxldC5hd2Vzb21lLW1hcmtlcnMvMi4wLjIvbGVhZmxldC5hd2Vzb21lLW1hcmtlcnMuanMiPjwvc2NyaXB0PgogICAgPGxpbmsgcmVsPSJzdHlsZXNoZWV0IiBocmVmPSJodHRwczovL2Nkbi5qc2RlbGl2ci5uZXQvbnBtL2xlYWZsZXRAMS4yLjAvZGlzdC9sZWFmbGV0LmNzcyIgLz4KICAgIDxsaW5rIHJlbD0ic3R5bGVzaGVldCIgaHJlZj0iaHR0cHM6Ly9tYXhjZG4uYm9vdHN0cmFwY2RuLmNvbS9ib290c3RyYXAvMy4yLjAvY3NzL2Jvb3RzdHJhcC5taW4uY3NzIiAvPgogICAgPGxpbmsgcmVsPSJzdHlsZXNoZWV0IiBocmVmPSJodHRwczovL21heGNkbi5ib290c3RyYXBjZG4uY29tL2Jvb3RzdHJhcC8zLjIuMC9jc3MvYm9vdHN0cmFwLXRoZW1lLm1pbi5jc3MiIC8+CiAgICA8bGluayByZWw9InN0eWxlc2hlZXQiIGhyZWY9Imh0dHBzOi8vbWF4Y2RuLmJvb3RzdHJhcGNkbi5jb20vZm9udC1hd2Vzb21lLzQuNi4zL2Nzcy9mb250LWF3ZXNvbWUubWluLmNzcyIgLz4KICAgIDxsaW5rIHJlbD0ic3R5bGVzaGVldCIgaHJlZj0iaHR0cHM6Ly9jZG5qcy5jbG91ZGZsYXJlLmNvbS9hamF4L2xpYnMvTGVhZmxldC5hd2Vzb21lLW1hcmtlcnMvMi4wLjIvbGVhZmxldC5hd2Vzb21lLW1hcmtlcnMuY3NzIiAvPgogICAgPGxpbmsgcmVsPSJzdHlsZXNoZWV0IiBocmVmPSJodHRwczovL3Jhd2dpdC5jb20vcHl0aG9uLXZpc3VhbGl6YXRpb24vZm9saXVtL21hc3Rlci9mb2xpdW0vdGVtcGxhdGVzL2xlYWZsZXQuYXdlc29tZS5yb3RhdGUuY3NzIiAvPgogICAgPHN0eWxlPmh0bWwsIGJvZHkge3dpZHRoOiAxMDAlO2hlaWdodDogMTAwJTttYXJnaW46IDA7cGFkZGluZzogMDt9PC9zdHlsZT4KICAgIDxzdHlsZT4jbWFwIHtwb3NpdGlvbjphYnNvbHV0ZTt0b3A6MDtib3R0b206MDtyaWdodDowO2xlZnQ6MDt9PC9zdHlsZT4KICAgIAogICAgICAgICAgICA8c3R5bGU+ICNtYXBfNzkwODdmYTFjMTA0NDM4MmFiYjM3YTYyMjMyM2I2ODggewogICAgICAgICAgICAgICAgcG9zaXRpb24gOiByZWxhdGl2ZTsKICAgICAgICAgICAgICAgIHdpZHRoIDogMTAwLjAlOwogICAgICAgICAgICAgICAgaGVpZ2h0OiAxMDAuMCU7CiAgICAgICAgICAgICAgICBsZWZ0OiAwLjAlOwogICAgICAgICAgICAgICAgdG9wOiAwLjAlOwogICAgICAgICAgICAgICAgfQogICAgICAgICAgICA8L3N0eWxlPgogICAgICAgIAo8L2hlYWQ+Cjxib2R5PiAgICAKICAgIAogICAgICAgICAgICA8ZGl2IGNsYXNzPSJmb2xpdW0tbWFwIiBpZD0ibWFwXzc5MDg3ZmExYzEwNDQzODJhYmIzN2E2MjIzMjNiNjg4IiA+PC9kaXY+CiAgICAgICAgCjwvYm9keT4KPHNjcmlwdD4gICAgCiAgICAKCiAgICAgICAgICAgIAogICAgICAgICAgICAgICAgdmFyIGJvdW5kcyA9IG51bGw7CiAgICAgICAgICAgIAoKICAgICAgICAgICAgdmFyIG1hcF83OTA4N2ZhMWMxMDQ0MzgyYWJiMzdhNjIyMzIzYjY4OCA9IEwubWFwKAogICAgICAgICAgICAgICAgICAgICAgICAgICAgICAgICAgJ21hcF83OTA4N2ZhMWMxMDQ0MzgyYWJiMzdhNjIyMzIzYjY4OCcsCiAgICAgICAgICAgICAgICAgICAgICAgICAgICAgICAgICB7Y2VudGVyOiBbNjAuNiw3LjVdLAogICAgICAgICAgICAgICAgICAgICAgICAgICAgICAgICAgem9vbTogMTEsCiAgICAgICAgICAgICAgICAgICAgICAgICAgICAgICAgICBtYXhCb3VuZHM6IGJvdW5kcywKICAgICAgICAgICAgICAgICAgICAgICAgICAgICAgICAgIGxheWVyczogW10sCiAgICAgICAgICAgICAgICAgICAgICAgICAgICAgICAgICB3b3JsZENvcHlKdW1wOiBmYWxzZSwKICAgICAgICAgICAgICAgICAgICAgICAgICAgICAgICAgIGNyczogTC5DUlMuRVBTRzM4NTcKICAgICAgICAgICAgICAgICAgICAgICAgICAgICAgICAgfSk7CiAgICAgICAgICAgIAogICAgICAgIAogICAgCiAgICAgICAgICAgIHZhciB0aWxlX2xheWVyXzlmYWY4MDE3NjUwNzRiNjhhMGMxM2VlN2FiYTFmYjU1ID0gTC50aWxlTGF5ZXIoCiAgICAgICAgICAgICAgICAnaHR0cHM6Ly9zdGFtZW4tdGlsZXMte3N9LmEuc3NsLmZhc3RseS5uZXQvdGVycmFpbi97en0ve3h9L3t5fS5qcGcnLAogICAgICAgICAgICAgICAgewogICJhdHRyaWJ1dGlvbiI6IG51bGwsCiAgImRldGVjdFJldGluYSI6IGZhbHNlLAogICJtYXhab29tIjogMTgsCiAgIm1pblpvb20iOiAxLAogICJub1dyYXAiOiBmYWxzZSwKICAic3ViZG9tYWlucyI6ICJhYmMiCn0KICAgICAgICAgICAgICAgICkuYWRkVG8obWFwXzc5MDg3ZmExYzEwNDQzODJhYmIzN2E2MjIzMjNiNjg4KTsKICAgICAgICAKICAgIAoKICAgICAgICAgICAgCgogICAgICAgICAgICAgICAgdmFyIGdlb19qc29uXzMzMjkxZmVlY2JhODQzNjNhODQ2ZDcyZmE3ZTIwYTQ4ID0gTC5nZW9Kc29uKAogICAgICAgICAgICAgICAgICAgIHsiZmVhdHVyZXMiOiBbeyJnZW9tZXRyeSI6IHsiY29vcmRpbmF0ZXMiOiBbNy40ODUxNDEsIDYwLjU3MTE0Nl0sICJ0eXBlIjogIlBvaW50In0sICJwcm9wZXJ0aWVzIjogeyJjb3VudHJ5LmV0YyI6ICJOTyIsICJkZXNjcmlwdGlvbiI6ICJBcHBlbHNpbmh5dHRhIiwgImhpZ2hsaWdodCI6IHt9LCAibmFtZSI6ICJTZW5zb3ItMSIsICJzdHlsZSI6IHt9LCAid2FzcG1vdGVfaWQiOiAiMDIzRDY3MDU3QzEwNTQ3NCJ9LCAidHlwZSI6ICJGZWF0dXJlIn0sIHsiZ2VvbWV0cnkiOiB7ImNvb3JkaW5hdGVzIjogWzcuNDkwMzgzLCA2MC41ODE1MDFdLCAidHlwZSI6ICJQb2ludCJ9LCAicHJvcGVydGllcyI6IHsiY291bnRyeS5ldGMiOiAiTk8iLCAiZGVzY3JpcHRpb24iOiAiSGlsbHMiLCAiaGlnaGxpZ2h0Ijoge30sICJuYW1lIjogIlNlbnNvci0yIiwgInN0eWxlIjoge30sICJ3YXNwbW90ZV9pZCI6ICIxRjU2NkYwNTdDMTA1NDg3In0sICJ0eXBlIjogIkZlYXR1cmUifSwgeyJnZW9tZXRyeSI6IHsiY29vcmRpbmF0ZXMiOiBbNy41MDI3NzgsIDYwLjU3Njg1Ml0sICJ0eXBlIjogIlBvaW50In0sICJwcm9wZXJ0aWVzIjogeyJjb3VudHJ5LmV0YyI6ICJOTyIsICJkZXNjcmlwdGlvbiI6ICJNaWRkYXNlbHZpIGRpc2NoYXJnZSIsICJoaWdobGlnaHQiOiB7fSwgIm5hbWUiOiAiU2Vuc29yLTMiLCAic3R5bGUiOiB7fSwgIndhc3Btb3RlX2lkIjogIjNGN0M2NzA1N0MxMDU0MTkifSwgInR5cGUiOiAiRmVhdHVyZSJ9LCB7Imdlb21ldHJ5IjogeyJjb29yZGluYXRlcyI6IFs3LjUwMzk1NywgNjAuNjE2Njk0XSwgInR5cGUiOiAiUG9pbnQifSwgInByb3BlcnRpZXMiOiB7ImNvdW50cnkuZXRjIjogIk5PIiwgImRlc2NyaXB0aW9uIjogIkZpbnNlbHZpIGRpc2NoYXJnZSIsICJoaWdobGlnaHQiOiB7fSwgIm5hbWUiOiAiU2Vuc29yLTQiLCAic3R5bGUiOiB7fSwgIndhc3Btb3RlX2lkIjogIjQwNTE2RjA1N0MxMDU0MzcifSwgInR5cGUiOiAiRmVhdHVyZSJ9LCB7Imdlb21ldHJ5IjogeyJjb29yZGluYXRlcyI6IFs3LjQ5MDM4MywgNjAuNTgxNTAxXSwgInR5cGUiOiAiUG9pbnQifSwgInByb3BlcnRpZXMiOiB7ImNvdW50cnkuZXRjIjogIk5PIiwgImRlc2NyaXB0aW9uIjogIkhpbGxzIiwgImhpZ2hsaWdodCI6IHt9LCAibmFtZSI6ICJTZW5zb3ItNSIsICJzdHlsZSI6IHt9LCAid2FzcG1vdGVfaWQiOiAiNjY3NzY3MDU3QzEwNTQ4RSJ9LCAidHlwZSI6ICJGZWF0dXJlIn0sIHsiZ2VvbWV0cnkiOiB7ImNvb3JkaW5hdGVzIjogWzcuNTI4NDgyLCA2MC41OTM1MTRdLCAidHlwZSI6ICJQb2ludCJ9LCAicHJvcGVydGllcyI6IHsiY291bnRyeS5ldGMiOiAiTk8iLCAiZGVzY3JpcHRpb24iOiAiRHJpZnQgbG93ZXIgbGlkYXIiLCAiaGlnaGxpZ2h0Ijoge30sICJuYW1lIjogIlNlbnNvci02IiwgInN0eWxlIjoge30sICJ3YXNwbW90ZV9pZCI6ICI2RDQ0NjcwNTdDMTA1NERDIn0sICJ0eXBlIjogIkZlYXR1cmUifV0sICJ0eXBlIjogIkZlYXR1cmVDb2xsZWN0aW9uIn0KICAgICAgICAgICAgICAgICAgICAKICAgICAgICAgICAgICAgICAgICApLmFkZFRvKG1hcF83OTA4N2ZhMWMxMDQ0MzgyYWJiMzdhNjIyMzIzYjY4OCk7CiAgICAgICAgICAgICAgICBnZW9fanNvbl8zMzI5MWZlZWNiYTg0MzYzYTg0NmQ3MmZhN2UyMGE0OC5zZXRTdHlsZShmdW5jdGlvbihmZWF0dXJlKSB7cmV0dXJuIGZlYXR1cmUucHJvcGVydGllcy5zdHlsZTt9KTsKCiAgICAgICAgICAgIAogICAgCgogICAgICAgICAgICB2YXIgbWFya2VyXzI1NmM5ZmVjOWVlMjQ2MDU4NDVmZDRhNzlhN2YyOGJkID0gTC5tYXJrZXIoCiAgICAgICAgICAgICAgICBbNjAuNTcxMTQ2LDcuNDg1MTQxXSwKICAgICAgICAgICAgICAgIHsKICAgICAgICAgICAgICAgICAgICBpY29uOiBuZXcgTC5JY29uLkRlZmF1bHQoKQogICAgICAgICAgICAgICAgICAgIH0KICAgICAgICAgICAgICAgICkKICAgICAgICAgICAgICAgIC5hZGRUbyhtYXBfNzkwODdmYTFjMTA0NDM4MmFiYjM3YTYyMjMyM2I2ODgpOwogICAgICAgICAgICAKICAgIAoKICAgICAgICAgICAgICAgIHZhciBpY29uXzk1NDM2NDNmMzMwZjRiMzdiMzUzNWE1YmM0NjQwOTYwID0gTC5Bd2Vzb21lTWFya2Vycy5pY29uKHsKICAgICAgICAgICAgICAgICAgICBpY29uOiAnb2stc2lnbicsCiAgICAgICAgICAgICAgICAgICAgaWNvbkNvbG9yOiAnd2hpdGUnLAogICAgICAgICAgICAgICAgICAgIG1hcmtlckNvbG9yOiAnZ3JlZW4nLAogICAgICAgICAgICAgICAgICAgIHByZWZpeDogJ2dseXBoaWNvbicsCiAgICAgICAgICAgICAgICAgICAgZXh0cmFDbGFzc2VzOiAnZmEtcm90YXRlLTAnCiAgICAgICAgICAgICAgICAgICAgfSk7CiAgICAgICAgICAgICAgICBtYXJrZXJfMjU2YzlmZWM5ZWUyNDYwNTg0NWZkNGE3OWE3ZjI4YmQuc2V0SWNvbihpY29uXzk1NDM2NDNmMzMwZjRiMzdiMzUzNWE1YmM0NjQwOTYwKTsKICAgICAgICAgICAgCiAgICAKICAgICAgICAgICAgdmFyIHBvcHVwX2E5ODhiODliY2YwMTRmYjM5ZTYxNTQzOTNkMTJlYmExID0gTC5wb3B1cCh7bWF4V2lkdGg6ICcyNjUwJ30pOwoKICAgICAgICAgICAgCiAgICAgICAgICAgICAgICB2YXIgaV9mcmFtZV84YjNhYjhmNTYyNjY0ZWJhYTlhMGIwOWFkNGY2NGMxNiA9ICQoJzxpZnJhbWUgc3JjPSJkYXRhOnRleHQvaHRtbDtjaGFyc2V0PXV0Zi04O2Jhc2U2NCxDaUFnSUNCYk5qQXVOVGN4TVRRMkxDQTNMalE0TlRFME1WMD0iIHdpZHRoPSIzMDAiIHN0eWxlPSJib3JkZXI6bm9uZSAhaW1wb3J0YW50OyIgaGVpZ2h0PSIxNTAiPjwvaWZyYW1lPicpWzBdOwogICAgICAgICAgICAgICAgcG9wdXBfYTk4OGI4OWJjZjAxNGZiMzllNjE1NDM5M2QxMmViYTEuc2V0Q29udGVudChpX2ZyYW1lXzhiM2FiOGY1NjI2NjRlYmFhOWEwYjA5YWQ0ZjY0YzE2KTsKICAgICAgICAgICAgCgogICAgICAgICAgICBtYXJrZXJfMjU2YzlmZWM5ZWUyNDYwNTg0NWZkNGE3OWE3ZjI4YmQuYmluZFBvcHVwKHBvcHVwX2E5ODhiODliY2YwMTRmYjM5ZTYxNTQzOTNkMTJlYmExKTsKCiAgICAgICAgICAgIAogICAgICAgIAogICAgCgogICAgICAgICAgICB2YXIgbWFya2VyX2Y0NDJiN2ZhODQ4MjRlYTk4N2Q2ZGE2YTZmYjQ0NWM5ID0gTC5tYXJrZXIoCiAgICAgICAgICAgICAgICBbNjAuNTgxNTAxLDcuNDkwMzgzXSwKICAgICAgICAgICAgICAgIHsKICAgICAgICAgICAgICAgICAgICBpY29uOiBuZXcgTC5JY29uLkRlZmF1bHQoKQogICAgICAgICAgICAgICAgICAgIH0KICAgICAgICAgICAgICAgICkKICAgICAgICAgICAgICAgIC5hZGRUbyhtYXBfNzkwODdmYTFjMTA0NDM4MmFiYjM3YTYyMjMyM2I2ODgpOwogICAgICAgICAgICAKICAgIAoKICAgICAgICAgICAgICAgIHZhciBpY29uX2I2Y2UxNzNhMjk4ODQwNjdiODRkOGU2YWNkYmYwM2QxID0gTC5Bd2Vzb21lTWFya2Vycy5pY29uKHsKICAgICAgICAgICAgICAgICAgICBpY29uOiAnb2stc2lnbicsCiAgICAgICAgICAgICAgICAgICAgaWNvbkNvbG9yOiAnd2hpdGUnLAogICAgICAgICAgICAgICAgICAgIG1hcmtlckNvbG9yOiAnZ3JlZW4nLAogICAgICAgICAgICAgICAgICAgIHByZWZpeDogJ2dseXBoaWNvbicsCiAgICAgICAgICAgICAgICAgICAgZXh0cmFDbGFzc2VzOiAnZmEtcm90YXRlLTAnCiAgICAgICAgICAgICAgICAgICAgfSk7CiAgICAgICAgICAgICAgICBtYXJrZXJfZjQ0MmI3ZmE4NDgyNGVhOTg3ZDZkYTZhNmZiNDQ1Yzkuc2V0SWNvbihpY29uX2I2Y2UxNzNhMjk4ODQwNjdiODRkOGU2YWNkYmYwM2QxKTsKICAgICAgICAgICAgCiAgICAKICAgICAgICAgICAgdmFyIHBvcHVwXzViY2Y0ZjkwYTJjZjRiNjBiOGZjMWIzZmEyNTNmMGQ4ID0gTC5wb3B1cCh7bWF4V2lkdGg6ICcyNjUwJ30pOwoKICAgICAgICAgICAgCiAgICAgICAgICAgICAgICB2YXIgaV9mcmFtZV9mNTA4NTkwZGIzYjU0ZmE5YjkyMGMzY2Y3ZGI0OGU2ZSA9ICQoJzxpZnJhbWUgc3JjPSJkYXRhOnRleHQvaHRtbDtjaGFyc2V0PXV0Zi04O2Jhc2U2NCxDaUFnSUNCYk5qQXVOVGd4TlRBeExDQTNMalE1TURNNE0xMD0iIHdpZHRoPSIzMDAiIHN0eWxlPSJib3JkZXI6bm9uZSAhaW1wb3J0YW50OyIgaGVpZ2h0PSIxNTAiPjwvaWZyYW1lPicpWzBdOwogICAgICAgICAgICAgICAgcG9wdXBfNWJjZjRmOTBhMmNmNGI2MGI4ZmMxYjNmYTI1M2YwZDguc2V0Q29udGVudChpX2ZyYW1lX2Y1MDg1OTBkYjNiNTRmYTliOTIwYzNjZjdkYjQ4ZTZlKTsKICAgICAgICAgICAgCgogICAgICAgICAgICBtYXJrZXJfZjQ0MmI3ZmE4NDgyNGVhOTg3ZDZkYTZhNmZiNDQ1YzkuYmluZFBvcHVwKHBvcHVwXzViY2Y0ZjkwYTJjZjRiNjBiOGZjMWIzZmEyNTNmMGQ4KTsKCiAgICAgICAgICAgIAogICAgICAgIAogICAgCgogICAgICAgICAgICB2YXIgbWFya2VyXzVkZmY0ZmVlYzRkMTQ1ZDlhYmE4NTRmOTUwMDhmOWI0ID0gTC5tYXJrZXIoCiAgICAgICAgICAgICAgICBbNjAuNTc2ODUyLDcuNTAyNzc4XSwKICAgICAgICAgICAgICAgIHsKICAgICAgICAgICAgICAgICAgICBpY29uOiBuZXcgTC5JY29uLkRlZmF1bHQoKQogICAgICAgICAgICAgICAgICAgIH0KICAgICAgICAgICAgICAgICkKICAgICAgICAgICAgICAgIC5hZGRUbyhtYXBfNzkwODdmYTFjMTA0NDM4MmFiYjM3YTYyMjMyM2I2ODgpOwogICAgICAgICAgICAKICAgIAoKICAgICAgICAgICAgICAgIHZhciBpY29uXzEyNTc4OGFiZWViOTQ1MTk5YjE3ZTcyMTdkYzkzMjA5ID0gTC5Bd2Vzb21lTWFya2Vycy5pY29uKHsKICAgICAgICAgICAgICAgICAgICBpY29uOiAnb2stc2lnbicsCiAgICAgICAgICAgICAgICAgICAgaWNvbkNvbG9yOiAnd2hpdGUnLAogICAgICAgICAgICAgICAgICAgIG1hcmtlckNvbG9yOiAnZ3JlZW4nLAogICAgICAgICAgICAgICAgICAgIHByZWZpeDogJ2dseXBoaWNvbicsCiAgICAgICAgICAgICAgICAgICAgZXh0cmFDbGFzc2VzOiAnZmEtcm90YXRlLTAnCiAgICAgICAgICAgICAgICAgICAgfSk7CiAgICAgICAgICAgICAgICBtYXJrZXJfNWRmZjRmZWVjNGQxNDVkOWFiYTg1NGY5NTAwOGY5YjQuc2V0SWNvbihpY29uXzEyNTc4OGFiZWViOTQ1MTk5YjE3ZTcyMTdkYzkzMjA5KTsKICAgICAgICAgICAgCiAgICAKICAgICAgICAgICAgdmFyIHBvcHVwX2YzNmNlZjE2ZjMyNDQ5YmJhMmRmODlkNzUxMTQ2ZDAwID0gTC5wb3B1cCh7bWF4V2lkdGg6ICcyNjUwJ30pOwoKICAgICAgICAgICAgCiAgICAgICAgICAgICAgICB2YXIgaV9mcmFtZV80ZjdiMWM2M2FiNTE0ZmZkODRhZGQ5M2NmMGZjZTVjNyA9ICQoJzxpZnJhbWUgc3JjPSJkYXRhOnRleHQvaHRtbDtjaGFyc2V0PXV0Zi04O2Jhc2U2NCxDaUFnSUNCYk5qQXVOVGMyT0RVeUxDQTNMalV3TWpjM09GMD0iIHdpZHRoPSIzMDAiIHN0eWxlPSJib3JkZXI6bm9uZSAhaW1wb3J0YW50OyIgaGVpZ2h0PSIxNTAiPjwvaWZyYW1lPicpWzBdOwogICAgICAgICAgICAgICAgcG9wdXBfZjM2Y2VmMTZmMzI0NDliYmEyZGY4OWQ3NTExNDZkMDAuc2V0Q29udGVudChpX2ZyYW1lXzRmN2IxYzYzYWI1MTRmZmQ4NGFkZDkzY2YwZmNlNWM3KTsKICAgICAgICAgICAgCgogICAgICAgICAgICBtYXJrZXJfNWRmZjRmZWVjNGQxNDVkOWFiYTg1NGY5NTAwOGY5YjQuYmluZFBvcHVwKHBvcHVwX2YzNmNlZjE2ZjMyNDQ5YmJhMmRmODlkNzUxMTQ2ZDAwKTsKCiAgICAgICAgICAgIAogICAgICAgIAogICAgCgogICAgICAgICAgICB2YXIgbWFya2VyXzk0ZmRjYmIwN2ZmYzQ3ZjI5MjM2NDAyYjBhNjUxODdiID0gTC5tYXJrZXIoCiAgICAgICAgICAgICAgICBbNjAuNjE2Njk0LDcuNTAzOTU3XSwKICAgICAgICAgICAgICAgIHsKICAgICAgICAgICAgICAgICAgICBpY29uOiBuZXcgTC5JY29uLkRlZmF1bHQoKQogICAgICAgICAgICAgICAgICAgIH0KICAgICAgICAgICAgICAgICkKICAgICAgICAgICAgICAgIC5hZGRUbyhtYXBfNzkwODdmYTFjMTA0NDM4MmFiYjM3YTYyMjMyM2I2ODgpOwogICAgICAgICAgICAKICAgIAoKICAgICAgICAgICAgICAgIHZhciBpY29uXzEzYjlhNjI3NTdjZjRmNTdiMDRjYjczMTgxMTAxZWIzID0gTC5Bd2Vzb21lTWFya2Vycy5pY29uKHsKICAgICAgICAgICAgICAgICAgICBpY29uOiAnb2stc2lnbicsCiAgICAgICAgICAgICAgICAgICAgaWNvbkNvbG9yOiAnd2hpdGUnLAogICAgICAgICAgICAgICAgICAgIG1hcmtlckNvbG9yOiAnZ3JlZW4nLAogICAgICAgICAgICAgICAgICAgIHByZWZpeDogJ2dseXBoaWNvbicsCiAgICAgICAgICAgICAgICAgICAgZXh0cmFDbGFzc2VzOiAnZmEtcm90YXRlLTAnCiAgICAgICAgICAgICAgICAgICAgfSk7CiAgICAgICAgICAgICAgICBtYXJrZXJfOTRmZGNiYjA3ZmZjNDdmMjkyMzY0MDJiMGE2NTE4N2Iuc2V0SWNvbihpY29uXzEzYjlhNjI3NTdjZjRmNTdiMDRjYjczMTgxMTAxZWIzKTsKICAgICAgICAgICAgCiAgICAKICAgICAgICAgICAgdmFyIHBvcHVwXzY3ZDAxMTYzOWNiMDQ0YTBiMjYwNTA5MTM5ZDkyMTI4ID0gTC5wb3B1cCh7bWF4V2lkdGg6ICcyNjUwJ30pOwoKICAgICAgICAgICAgCiAgICAgICAgICAgICAgICB2YXIgaV9mcmFtZV9mYTU3NzY4NzQ3YzU0ZmE5YWU2MGRlMmQ1YWZmYzcxMyA9ICQoJzxpZnJhbWUgc3JjPSJkYXRhOnRleHQvaHRtbDtjaGFyc2V0PXV0Zi04O2Jhc2U2NCxDaUFnSUNCYk5qQXVOakUyTmprMExDQTNMalV3TXprMU4xMD0iIHdpZHRoPSIzMDAiIHN0eWxlPSJib3JkZXI6bm9uZSAhaW1wb3J0YW50OyIgaGVpZ2h0PSIxNTAiPjwvaWZyYW1lPicpWzBdOwogICAgICAgICAgICAgICAgcG9wdXBfNjdkMDExNjM5Y2IwNDRhMGIyNjA1MDkxMzlkOTIxMjguc2V0Q29udGVudChpX2ZyYW1lX2ZhNTc3Njg3NDdjNTRmYTlhZTYwZGUyZDVhZmZjNzEzKTsKICAgICAgICAgICAgCgogICAgICAgICAgICBtYXJrZXJfOTRmZGNiYjA3ZmZjNDdmMjkyMzY0MDJiMGE2NTE4N2IuYmluZFBvcHVwKHBvcHVwXzY3ZDAxMTYzOWNiMDQ0YTBiMjYwNTA5MTM5ZDkyMTI4KTsKCiAgICAgICAgICAgIAogICAgICAgIAogICAgCgogICAgICAgICAgICB2YXIgbWFya2VyXzBhZDY1NjhhMDg5MzRhMDI4M2Y4NGJiMTFlZmVjNGU4ID0gTC5tYXJrZXIoCiAgICAgICAgICAgICAgICBbNjAuNTgxNTAxLDcuNDkwMzgzXSwKICAgICAgICAgICAgICAgIHsKICAgICAgICAgICAgICAgICAgICBpY29uOiBuZXcgTC5JY29uLkRlZmF1bHQoKQogICAgICAgICAgICAgICAgICAgIH0KICAgICAgICAgICAgICAgICkKICAgICAgICAgICAgICAgIC5hZGRUbyhtYXBfNzkwODdmYTFjMTA0NDM4MmFiYjM3YTYyMjMyM2I2ODgpOwogICAgICAgICAgICAKICAgIAoKICAgICAgICAgICAgICAgIHZhciBpY29uX2EyOGIzYTliZjJiMDQ2MWQ4NjcxMjBkZTE5Y2NjNDBkID0gTC5Bd2Vzb21lTWFya2Vycy5pY29uKHsKICAgICAgICAgICAgICAgICAgICBpY29uOiAnb2stc2lnbicsCiAgICAgICAgICAgICAgICAgICAgaWNvbkNvbG9yOiAnd2hpdGUnLAogICAgICAgICAgICAgICAgICAgIG1hcmtlckNvbG9yOiAnZ3JlZW4nLAogICAgICAgICAgICAgICAgICAgIHByZWZpeDogJ2dseXBoaWNvbicsCiAgICAgICAgICAgICAgICAgICAgZXh0cmFDbGFzc2VzOiAnZmEtcm90YXRlLTAnCiAgICAgICAgICAgICAgICAgICAgfSk7CiAgICAgICAgICAgICAgICBtYXJrZXJfMGFkNjU2OGEwODkzNGEwMjgzZjg0YmIxMWVmZWM0ZTguc2V0SWNvbihpY29uX2EyOGIzYTliZjJiMDQ2MWQ4NjcxMjBkZTE5Y2NjNDBkKTsKICAgICAgICAgICAgCiAgICAKICAgICAgICAgICAgdmFyIHBvcHVwX2JhYzNjM2U1ZDJiMzQxY2JhNTIwMmE3MzI4MmE0ZDRhID0gTC5wb3B1cCh7bWF4V2lkdGg6ICcyNjUwJ30pOwoKICAgICAgICAgICAgCiAgICAgICAgICAgICAgICB2YXIgaV9mcmFtZV9iMDU2ODAyMDg4Y2M0NjM3YWU0M2QxMDU5MjMwMzQ4ZSA9ICQoJzxpZnJhbWUgc3JjPSJkYXRhOnRleHQvaHRtbDtjaGFyc2V0PXV0Zi04O2Jhc2U2NCxDaUFnSUNCYk5qQXVOVGd4TlRBeExDQTNMalE1TURNNE0xMD0iIHdpZHRoPSIzMDAiIHN0eWxlPSJib3JkZXI6bm9uZSAhaW1wb3J0YW50OyIgaGVpZ2h0PSIxNTAiPjwvaWZyYW1lPicpWzBdOwogICAgICAgICAgICAgICAgcG9wdXBfYmFjM2MzZTVkMmIzNDFjYmE1MjAyYTczMjgyYTRkNGEuc2V0Q29udGVudChpX2ZyYW1lX2IwNTY4MDIwODhjYzQ2MzdhZTQzZDEwNTkyMzAzNDhlKTsKICAgICAgICAgICAgCgogICAgICAgICAgICBtYXJrZXJfMGFkNjU2OGEwODkzNGEwMjgzZjg0YmIxMWVmZWM0ZTguYmluZFBvcHVwKHBvcHVwX2JhYzNjM2U1ZDJiMzQxY2JhNTIwMmE3MzI4MmE0ZDRhKTsKCiAgICAgICAgICAgIAogICAgICAgIAogICAgCgogICAgICAgICAgICB2YXIgbWFya2VyX2NkNzE5Y2U1YWY3MTQwMjBhNTlmNGRhYTZkNjU5MzM1ID0gTC5tYXJrZXIoCiAgICAgICAgICAgICAgICBbNjAuNTkzNTE0LDcuNTI4NDgyXSwKICAgICAgICAgICAgICAgIHsKICAgICAgICAgICAgICAgICAgICBpY29uOiBuZXcgTC5JY29uLkRlZmF1bHQoKQogICAgICAgICAgICAgICAgICAgIH0KICAgICAgICAgICAgICAgICkKICAgICAgICAgICAgICAgIC5hZGRUbyhtYXBfNzkwODdmYTFjMTA0NDM4MmFiYjM3YTYyMjMyM2I2ODgpOwogICAgICAgICAgICAKICAgIAoKICAgICAgICAgICAgICAgIHZhciBpY29uXzc4MjhhZGIxNTY4MTQ4YWJiZGZjMGM1MThiYzVjMDAwID0gTC5Bd2Vzb21lTWFya2Vycy5pY29uKHsKICAgICAgICAgICAgICAgICAgICBpY29uOiAnb2stc2lnbicsCiAgICAgICAgICAgICAgICAgICAgaWNvbkNvbG9yOiAnd2hpdGUnLAogICAgICAgICAgICAgICAgICAgIG1hcmtlckNvbG9yOiAnZ3JlZW4nLAogICAgICAgICAgICAgICAgICAgIHByZWZpeDogJ2dseXBoaWNvbicsCiAgICAgICAgICAgICAgICAgICAgZXh0cmFDbGFzc2VzOiAnZmEtcm90YXRlLTAnCiAgICAgICAgICAgICAgICAgICAgfSk7CiAgICAgICAgICAgICAgICBtYXJrZXJfY2Q3MTljZTVhZjcxNDAyMGE1OWY0ZGFhNmQ2NTkzMzUuc2V0SWNvbihpY29uXzc4MjhhZGIxNTY4MTQ4YWJiZGZjMGM1MThiYzVjMDAwKTsKICAgICAgICAgICAgCiAgICAKICAgICAgICAgICAgdmFyIHBvcHVwXzczOTdlMmE2MGRhOTQ5NjJhMTVmOGJhZmNlMWI5N2VlID0gTC5wb3B1cCh7bWF4V2lkdGg6ICcyNjUwJ30pOwoKICAgICAgICAgICAgCiAgICAgICAgICAgICAgICB2YXIgaV9mcmFtZV8zMDg3MzY5NjAxMWE0NTFkYWRiMmY5ZjEyYzJiMTVkMSA9ICQoJzxpZnJhbWUgc3JjPSJkYXRhOnRleHQvaHRtbDtjaGFyc2V0PXV0Zi04O2Jhc2U2NCxDaUFnSUNCYk5qQXVOVGt6TlRFMExDQTNMalV5T0RRNE1sMD0iIHdpZHRoPSIzMDAiIHN0eWxlPSJib3JkZXI6bm9uZSAhaW1wb3J0YW50OyIgaGVpZ2h0PSIxNTAiPjwvaWZyYW1lPicpWzBdOwogICAgICAgICAgICAgICAgcG9wdXBfNzM5N2UyYTYwZGE5NDk2MmExNWY4YmFmY2UxYjk3ZWUuc2V0Q29udGVudChpX2ZyYW1lXzMwODczNjk2MDExYTQ1MWRhZGIyZjlmMTJjMmIxNWQxKTsKICAgICAgICAgICAgCgogICAgICAgICAgICBtYXJrZXJfY2Q3MTljZTVhZjcxNDAyMGE1OWY0ZGFhNmQ2NTkzMzUuYmluZFBvcHVwKHBvcHVwXzczOTdlMmE2MGRhOTQ5NjJhMTVmOGJhZmNlMWI5N2VlKTsKCiAgICAgICAgICAgIAogICAgICAgIAo8L3NjcmlwdD4=\" style=\"position:absolute;width:100%;height:100%;left:0;top:0;border:none !important;\" allowfullscreen webkitallowfullscreen mozallowfullscreen></iframe></div></div>"
      ],
      "text/plain": [
       "<folium.folium.Map at 0x7fd9cb3d9b70>"
      ]
     },
     "execution_count": 24,
     "metadata": {},
     "output_type": "execute_result"
    }
   ],
   "source": [
    "features = geojson.data['features']\n",
    "for i in range(0,len(features)):\n",
    "    location=[features[i]['geometry']['coordinates'][1],features[i]['geometry']['coordinates'][0]]\n",
    "    name=features[i]['properties']['name']\n",
    "    opr = features[i]['properties']['waspmote_id']\n",
    "    description= features[i]['properties']['description']\n",
    "    country= features[i]['properties']['country.etc']\n",
    "    html = str(location)\n",
    "    \n",
    "    iframe =folium.IFrame(html=html, width=300, height=150)\n",
    "    popup = folium.Popup(iframe, max_width= 2650)\n",
    "    folium.Marker(location, popup=popup, icon=folium.Icon(color='green', icon='ok-sign')).add_to(map)\n",
    "    \n",
    "map\n",
    "        "
   ]
  },
  {
   "cell_type": "code",
   "execution_count": 25,
   "metadata": {},
   "outputs": [],
   "source": [
    "map.save('map_finse.html')"
   ]
  },
  {
   "cell_type": "code",
   "execution_count": 26,
   "metadata": {},
   "outputs": [],
   "source": [
    "?folium.Icon"
   ]
  },
  {
   "cell_type": "code",
   "execution_count": null,
   "metadata": {},
   "outputs": [],
   "source": []
  }
 ],
 "metadata": {
  "extensions": {
   "jupyter_dashboards": {
    "activeView": "grid_default",
    "version": 1,
    "views": {
     "grid_default": {
      "cellMargin": 10,
      "defaultCellHeight": 20,
      "maxColumns": 12,
      "name": "grid",
      "type": "grid"
     },
     "report_default": {
      "name": "report",
      "type": "report"
     }
    }
   }
  },
  "kernelspec": {
   "display_name": "Python 3",
   "language": "python",
   "name": "python3"
  },
  "language_info": {
   "codemirror_mode": {
    "name": "ipython",
    "version": 3
   },
   "file_extension": ".py",
   "mimetype": "text/x-python",
   "name": "python",
   "nbconvert_exporter": "python",
   "pygments_lexer": "ipython3",
   "version": "3.6.3"
  },
  "widgets": {
   "application/vnd.jupyter.widget-state+json": {
    "state": {
     "0cc43f7d32f7463b9286088154e38e0c": {
      "model_module": "@jupyter-widgets/controls",
      "model_module_version": "1.1.0",
      "model_name": "DescriptionStyleModel",
      "state": {
       "description_width": "initial"
      }
     },
     "10845dd38aa342eea107faa6d5faf14f": {
      "model_module": "@jupyter-widgets/controls",
      "model_module_version": "1.1.0",
      "model_name": "DescriptionStyleModel",
      "state": {
       "description_width": ""
      }
     },
     "11eb65d75a33431baa9ed85e0bd87914": {
      "model_module": "@jupyter-widgets/controls",
      "model_module_version": "1.1.0",
      "model_name": "DescriptionStyleModel",
      "state": {
       "description_width": ""
      }
     },
     "1443ae7fa2c04a0e9075de67ee823b3a": {
      "model_module": "@jupyter-widgets/base",
      "model_module_version": "1.0.0",
      "model_name": "LayoutModel",
      "state": {}
     },
     "214215a66d8648a086b9ea0fec8a27ff": {
      "model_module": "@jupyter-widgets/base",
      "model_module_version": "1.0.0",
      "model_name": "LayoutModel",
      "state": {}
     },
     "21db3ce1c68c496b81a169f9e5d0da67": {
      "model_module": "@jupyter-widgets/controls",
      "model_module_version": "1.1.0",
      "model_name": "DescriptionStyleModel",
      "state": {
       "description_width": "initial"
      }
     },
     "244837c2319b4bf79c3950bd83341688": {
      "model_module": "@jupyter-widgets/controls",
      "model_module_version": "1.1.0",
      "model_name": "DescriptionStyleModel",
      "state": {
       "description_width": ""
      }
     },
     "2a8e81c81f7f439d9f242e5724b79e93": {
      "model_module": "@jupyter-widgets/base",
      "model_module_version": "1.0.0",
      "model_name": "LayoutModel",
      "state": {}
     },
     "3079f8a0a0c64d9aa6e20e9a4caef2aa": {
      "model_module": "@jupyter-widgets/controls",
      "model_module_version": "1.1.0",
      "model_name": "SelectModel",
      "state": {
       "_options_labels": [
        "Finse Railway Station",
        "Finse Research Centre"
       ],
       "description": "webcam:",
       "index": 1,
       "layout": "IPY_MODEL_ff6b33c8923a4373a370b7c5cf499bf0",
       "rows": 2,
       "style": "IPY_MODEL_10845dd38aa342eea107faa6d5faf14f"
      }
     },
     "5ff4d8846b774127a5f5a6a24758bff5": {
      "model_module": "@jupyter-widgets/controls",
      "model_module_version": "1.1.0",
      "model_name": "RadioButtonsModel",
      "state": {
       "_options_labels": [
        "Finse Railway Station",
        "Finse Research Centre"
       ],
       "description": "Webcam:",
       "index": 1,
       "layout": "IPY_MODEL_1443ae7fa2c04a0e9075de67ee823b3a",
       "style": "IPY_MODEL_77cb27d7de784eecb346307aecd038ca"
      }
     },
     "665ef08e18074f8bbcc5a00ade5dfa03": {
      "model_module": "beakerx",
      "model_module_version": "*",
      "model_name": "TableDisplayModel",
      "state": {
       "layout": "IPY_MODEL_b460818bd0f94ec6aa3cf0b4a3af732e",
       "model": {
        "alignmentForColumn": {},
        "alignmentForType": {},
        "cellHighlighters": [],
        "columnNames": [
         "geometry.coordinates",
         "geometry.type",
         "properties.country.etc",
         "properties.description",
         "properties.name",
         "properties.waspmote_id",
         "type"
        ],
        "columnOrder": [],
        "columnsFrozen": {},
        "columnsFrozenRight": {},
        "columnsVisible": {},
        "contextMenuItems": [],
        "contextMenuTags": {},
        "fontColor": [],
        "hasDoubleClickAction": false,
        "headersVertical": false,
        "rendererForColumn": {},
        "rendererForType": {},
        "stringFormatForColumn": {},
        "stringFormatForType": {},
        "subtype": "ListOfMaps",
        "tooManyRows": false,
        "tooltips": [],
        "type": "TableDisplay",
        "types": [
         "string",
         "string",
         "string",
         "string",
         "string",
         "string",
         "string"
        ],
        "values": [
         [
          "[7.485141, 60.571146]",
          "Point",
          "NO",
          "Appelsinhytta",
          "Sensor-1",
          "023D67057C105474",
          "Feature"
         ],
         [
          "[7.490383, 60.581501]",
          "Point",
          "NO",
          "Hills",
          "Sensor-2",
          "1F566F057C105487",
          "Feature"
         ],
         [
          "[7.502778, 60.576852]",
          "Point",
          "NO",
          "Middaselvi discharge",
          "Sensor-3",
          "3F7C67057C105419",
          "Feature"
         ],
         [
          "[7.503957, 60.616694]",
          "Point",
          "NO",
          "Finselvi discharge",
          "Sensor-4",
          "40516F057C105437",
          "Feature"
         ],
         [
          "[7.490383, 60.581501]",
          "Point",
          "NO",
          "Hills",
          "Sensor-5",
          "667767057C10548E",
          "Feature"
         ],
         [
          "[7.528482, 60.593514]",
          "Point",
          "NO",
          "Drift lower lidar",
          "Sensor-6",
          "6D4467057C1054DC",
          "Feature"
         ]
        ]
       }
      }
     },
     "77cb27d7de784eecb346307aecd038ca": {
      "model_module": "@jupyter-widgets/controls",
      "model_module_version": "1.1.0",
      "model_name": "DescriptionStyleModel",
      "state": {
       "description_width": ""
      }
     },
     "7bfb1fa6486c4bafa395a5be2fa4d4fe": {
      "model_module": "@jupyter-widgets/controls",
      "model_module_version": "1.1.0",
      "model_name": "HTMLModel",
      "state": {
       "description": "Finse Research Centre",
       "layout": "IPY_MODEL_9a572d51119146f083c7a0341b97fec8",
       "style": "IPY_MODEL_21db3ce1c68c496b81a169f9e5d0da67",
       "value": "<iframe width=\"560\" height=\"315\" src=\"https://www.finse.uio.no/news/webcam/finsebilder/2018-01-26_12-00.jpg\"></iframe>"
      }
     },
     "9a572d51119146f083c7a0341b97fec8": {
      "model_module": "@jupyter-widgets/base",
      "model_module_version": "1.0.0",
      "model_name": "LayoutModel",
      "state": {}
     },
     "9b61ea02e82e405d99deaa16a9bf6799": {
      "model_module": "@jupyter-widgets/controls",
      "model_module_version": "1.1.0",
      "model_name": "HTMLModel",
      "state": {
       "description": "Finse Research Centre",
       "layout": "IPY_MODEL_ced30ef6390d4bd7b7c632d1fda08af9",
       "style": "IPY_MODEL_0cc43f7d32f7463b9286088154e38e0c",
       "value": "<iframe width=\"560\" height=\"315\" src=\"https://www.finse.uio.no/news/webcam/dagens.jpg\"></iframe>"
      }
     },
     "ae7df7f24fc24bd79b1e476ead413f20": {
      "model_module": "@jupyter-widgets/base",
      "model_module_version": "1.0.0",
      "model_name": "LayoutModel",
      "state": {}
     },
     "b1afab5496ff4b0bb07191bc8bf08737": {
      "model_module": "@jupyter-widgets/controls",
      "model_module_version": "1.1.0",
      "model_name": "DescriptionStyleModel",
      "state": {
       "description_width": ""
      }
     },
     "b460818bd0f94ec6aa3cf0b4a3af732e": {
      "model_module": "@jupyter-widgets/base",
      "model_module_version": "*",
      "model_name": "LayoutModel",
      "state": {
       "_model_module_version": "*",
       "_view_module_version": "*"
      }
     },
     "ba00e2afabf64c398f48baa80410761e": {
      "model_module": "@jupyter-widgets/controls",
      "model_module_version": "1.1.0",
      "model_name": "SelectModel",
      "state": {
       "_options_labels": [
        "Finse Railway Station",
        "Finse Research Centre"
       ],
       "description": "webcam:",
       "index": 1,
       "layout": "IPY_MODEL_214215a66d8648a086b9ea0fec8a27ff",
       "rows": 2,
       "style": "IPY_MODEL_244837c2319b4bf79c3950bd83341688"
      }
     },
     "c17dbc44b73240539d98632cbc539aae": {
      "model_module": "@jupyter-widgets/controls",
      "model_module_version": "1.1.0",
      "model_name": "RadioButtonsModel",
      "state": {
       "_options_labels": [
        "Finse Railway Station",
        "Finse Research Centre"
       ],
       "description": "Webcam:",
       "index": 1,
       "layout": "IPY_MODEL_2a8e81c81f7f439d9f242e5724b79e93",
       "style": "IPY_MODEL_b1afab5496ff4b0bb07191bc8bf08737"
      }
     },
     "c1e64e112f5a4a0f982fe96e372b4bd4": {
      "model_module": "@jupyter-widgets/controls",
      "model_module_version": "1.1.0",
      "model_name": "RadioButtonsModel",
      "state": {
       "_options_labels": [
        "Finse Railway Station",
        "Finse Research Centre"
       ],
       "description": "Webcam:",
       "index": 1,
       "layout": "IPY_MODEL_ae7df7f24fc24bd79b1e476ead413f20",
       "style": "IPY_MODEL_11eb65d75a33431baa9ed85e0bd87914"
      }
     },
     "ced30ef6390d4bd7b7c632d1fda08af9": {
      "model_module": "@jupyter-widgets/base",
      "model_module_version": "1.0.0",
      "model_name": "LayoutModel",
      "state": {}
     },
     "ff6b33c8923a4373a370b7c5cf499bf0": {
      "model_module": "@jupyter-widgets/base",
      "model_module_version": "1.0.0",
      "model_name": "LayoutModel",
      "state": {}
     }
    },
    "version_major": 2,
    "version_minor": 0
   }
  }
 },
 "nbformat": 4,
 "nbformat_minor": 2
}
